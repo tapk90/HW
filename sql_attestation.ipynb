{
 "cells": [
  {
   "cell_type": "code",
   "execution_count": null,
   "id": "8decda1c",
   "metadata": {},
   "outputs": [],
   "source": [
    "# Задание 6"
   ]
  },
  {
   "cell_type": "code",
   "execution_count": 3,
   "id": "88e1e1be-6791-4337-9d39-125b3c7b3b4d",
   "metadata": {
    "tags": []
   },
   "outputs": [
    {
     "name": "stdout",
     "output_type": "stream",
     "text": [
      "Collecting psycopg2-binary\n",
      "  Downloading psycopg2_binary-2.9.7-cp38-cp38-macosx_10_9_x86_64.whl (2.8 MB)\n",
      "\u001b[2K     \u001b[90m━━━━━━━━━━━━━━━━━━━━━━━━━━━━━━━━━━━━━━━━\u001b[0m \u001b[32m2.8/2.8 MB\u001b[0m \u001b[31m5.6 MB/s\u001b[0m eta \u001b[36m0:00:00\u001b[0ma \u001b[36m0:00:01\u001b[0m\n",
      "\u001b[?25hInstalling collected packages: psycopg2-binary\n",
      "Successfully installed psycopg2-binary-2.9.7\n"
     ]
    }
   ],
   "source": [
    "! pip install psycopg2-binary"
   ]
  },
  {
   "cell_type": "code",
   "execution_count": 4,
   "id": "8ea5c42f",
   "metadata": {
    "tags": []
   },
   "outputs": [],
   "source": [
    "import psycopg2"
   ]
  },
  {
   "cell_type": "code",
   "execution_count": 5,
   "id": "dfe4623e",
   "metadata": {
    "tags": []
   },
   "outputs": [],
   "source": [
    "import pandas as pd"
   ]
  },
  {
   "cell_type": "code",
   "execution_count": 8,
   "id": "13b2b558",
   "metadata": {
    "tags": []
   },
   "outputs": [],
   "source": [
    "connect = psycopg2.connect(host='localhost', dbname='demo')"
   ]
  },
  {
   "cell_type": "code",
   "execution_count": 9,
   "id": "21a46834",
   "metadata": {
    "tags": []
   },
   "outputs": [],
   "source": [
    "cursor = connect.cursor()"
   ]
  },
  {
   "cell_type": "code",
   "execution_count": 10,
   "id": "2f8bea04",
   "metadata": {
    "tags": []
   },
   "outputs": [],
   "source": [
    "query = \"\"\"\n",
    "    select * from tickets_less_10500\n",
    "\"\"\""
   ]
  },
  {
   "cell_type": "code",
   "execution_count": 11,
   "id": "bad18d7c",
   "metadata": {
    "tags": []
   },
   "outputs": [],
   "source": [
    "cursor.execute(query )"
   ]
  },
  {
   "cell_type": "code",
   "execution_count": 12,
   "id": "77a4dbb5",
   "metadata": {
    "tags": []
   },
   "outputs": [],
   "source": [
    "results =  cursor.fetchall()"
   ]
  },
  {
   "cell_type": "code",
   "execution_count": 13,
   "id": "859a4473",
   "metadata": {
    "tags": []
   },
   "outputs": [
    {
     "name": "stdout",
     "output_type": "stream",
     "text": [
      "('0005434247112', 'Economy', Decimal('10400.00'))\n",
      "('0005435629393', 'Economy', Decimal('10400.00'))\n",
      "('0005435629388', 'Economy', Decimal('10400.00'))\n",
      "('0005434247111', 'Economy', Decimal('10400.00'))\n",
      "('0005434247113', 'Economy', Decimal('10400.00'))\n",
      "('0005435720125', 'Economy', Decimal('10400.00'))\n",
      "('0005435629394', 'Economy', Decimal('10400.00'))\n"
     ]
    }
   ],
   "source": [
    "for row in results:\n",
    "    print(row)"
   ]
  }
 ],
 "metadata": {
  "kernelspec": {
   "display_name": "Python 3 (ipykernel)",
   "language": "python",
   "name": "python3"
  },
  "language_info": {
   "codemirror_mode": {
    "name": "ipython",
    "version": 3
   },
   "file_extension": ".py",
   "mimetype": "text/x-python",
   "name": "python",
   "nbconvert_exporter": "python",
   "pygments_lexer": "ipython3",
   "version": "3.8.16"
  }
 },
 "nbformat": 4,
 "nbformat_minor": 5
}
