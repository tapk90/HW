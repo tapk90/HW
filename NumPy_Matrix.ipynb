{
  "nbformat": 4,
  "nbformat_minor": 0,
  "metadata": {
    "colab": {
      "provenance": []
    },
    "kernelspec": {
      "name": "python3",
      "display_name": "Python 3"
    },
    "language_info": {
      "name": "python"
    }
  },
  "cells": [
    {
      "cell_type": "code",
      "execution_count": null,
      "metadata": {
        "id": "FToNcmZH2sm2"
      },
      "outputs": [],
      "source": [
        "import numpy as np"
      ]
    },
    {
      "cell_type": "code",
      "source": [
        "#task 1"
      ],
      "metadata": {
        "id": "D913k_VT3hXp"
      },
      "execution_count": null,
      "outputs": []
    },
    {
      "cell_type": "code",
      "source": [
        "A = np.matrix([[1, 2, 1], [-2, 1, 1]])\n",
        "print (\"This is matrix A:\\n\", A)"
      ],
      "metadata": {
        "colab": {
          "base_uri": "https://localhost:8080/"
        },
        "id": "_-6R7QWK3lkA",
        "outputId": "7314a935-7cf6-4495-e6ba-cd3a0f4ec61a"
      },
      "execution_count": null,
      "outputs": [
        {
          "output_type": "stream",
          "name": "stdout",
          "text": [
            "This is matrix A:\n",
            " [[ 1  2  1]\n",
            " [-2  1  1]]\n"
          ]
        }
      ]
    },
    {
      "cell_type": "code",
      "source": [
        "B = np.matrix([[3, 1], [-1, 0], [2, 4]])\n",
        "print (\"This is matrix B:\\n\", B)"
      ],
      "metadata": {
        "colab": {
          "base_uri": "https://localhost:8080/"
        },
        "id": "tHbvEs254RIR",
        "outputId": "bbc4e62e-a3d3-42f6-e911-24b50188cc9b"
      },
      "execution_count": null,
      "outputs": [
        {
          "output_type": "stream",
          "name": "stdout",
          "text": [
            "This is matrix B:\n",
            " [[ 3  1]\n",
            " [-1  0]\n",
            " [ 2  4]]\n"
          ]
        }
      ]
    },
    {
      "cell_type": "code",
      "source": [
        "C = np.matrix([[-2, 2], [1, -1], [1, 2]])\n",
        "print (\"This is matrix C:\\n\", C)"
      ],
      "metadata": {
        "colab": {
          "base_uri": "https://localhost:8080/"
        },
        "id": "Rz0jku2R6-V1",
        "outputId": "f07f1118-e713-4b3a-ed95-8a2ae76e1a5b"
      },
      "execution_count": null,
      "outputs": [
        {
          "output_type": "stream",
          "name": "stdout",
          "text": [
            "This is matrix C:\n",
            " [[-2  2]\n",
            " [ 1 -1]\n",
            " [ 1  2]]\n"
          ]
        }
      ]
    },
    {
      "cell_type": "code",
      "source": [
        "res1 = A.transpose() + B.dot(2)\n",
        "print(res1)"
      ],
      "metadata": {
        "colab": {
          "base_uri": "https://localhost:8080/"
        },
        "id": "odaU_bOD7TgH",
        "outputId": "40c2e275-0073-44f7-ace5-cc1e04665925"
      },
      "execution_count": null,
      "outputs": [
        {
          "output_type": "stream",
          "name": "stdout",
          "text": [
            "[[7 0]\n",
            " [0 1]\n",
            " [5 9]]\n"
          ]
        }
      ]
    },
    {
      "cell_type": "code",
      "source": [
        "res2 = B + C.dot(2)\n",
        "print(res2)"
      ],
      "metadata": {
        "colab": {
          "base_uri": "https://localhost:8080/"
        },
        "id": "0z3NkU_dC5Aj",
        "outputId": "aff3b219-d2a7-4fbc-b050-460ba1178222"
      },
      "execution_count": null,
      "outputs": [
        {
          "output_type": "stream",
          "name": "stdout",
          "text": [
            "[[-1  5]\n",
            " [ 1 -2]\n",
            " [ 4  8]]\n"
          ]
        }
      ]
    },
    {
      "cell_type": "code",
      "source": [
        "#task 2"
      ],
      "metadata": {
        "id": "msyFAmmGDJCe"
      },
      "execution_count": null,
      "outputs": []
    },
    {
      "cell_type": "code",
      "source": [
        "matrix = np.zeros((8,8))\n",
        "print(matrix)"
      ],
      "metadata": {
        "colab": {
          "base_uri": "https://localhost:8080/"
        },
        "id": "cJbRKKLsDN_x",
        "outputId": "b4db40e6-a986-43cb-8a28-bf2a86ac3c01"
      },
      "execution_count": null,
      "outputs": [
        {
          "output_type": "stream",
          "name": "stdout",
          "text": [
            "[[0. 0. 0. 0. 0. 0. 0. 0.]\n",
            " [0. 0. 0. 0. 0. 0. 0. 0.]\n",
            " [0. 0. 0. 0. 0. 0. 0. 0.]\n",
            " [0. 0. 0. 0. 0. 0. 0. 0.]\n",
            " [0. 0. 0. 0. 0. 0. 0. 0.]\n",
            " [0. 0. 0. 0. 0. 0. 0. 0.]\n",
            " [0. 0. 0. 0. 0. 0. 0. 0.]\n",
            " [0. 0. 0. 0. 0. 0. 0. 0.]]\n"
          ]
        }
      ]
    },
    {
      "cell_type": "code",
      "source": [
        "matrix[1::2,::2] = 1\n",
        "matrix[::2,1::2] = 1\n",
        "print(matrix)"
      ],
      "metadata": {
        "colab": {
          "base_uri": "https://localhost:8080/"
        },
        "id": "msfd3XsAHKiA",
        "outputId": "362a757c-8469-4e25-c3ed-d4e255126e05"
      },
      "execution_count": null,
      "outputs": [
        {
          "output_type": "stream",
          "name": "stdout",
          "text": [
            "[[0. 1. 0. 1. 0. 1. 0. 1.]\n",
            " [1. 0. 1. 0. 1. 0. 1. 0.]\n",
            " [0. 1. 0. 1. 0. 1. 0. 1.]\n",
            " [1. 0. 1. 0. 1. 0. 1. 0.]\n",
            " [0. 1. 0. 1. 0. 1. 0. 1.]\n",
            " [1. 0. 1. 0. 1. 0. 1. 0.]\n",
            " [0. 1. 0. 1. 0. 1. 0. 1.]\n",
            " [1. 0. 1. 0. 1. 0. 1. 0.]]\n"
          ]
        }
      ]
    },
    {
      "cell_type": "code",
      "source": [
        "#task 3"
      ],
      "metadata": {
        "id": "uIPA5NhNWWcd"
      },
      "execution_count": null,
      "outputs": []
    },
    {
      "cell_type": "code",
      "source": [
        "vector1 = np.arange(0, 1.5, 0.1)\n",
        "print(vector1)"
      ],
      "metadata": {
        "colab": {
          "base_uri": "https://localhost:8080/"
        },
        "id": "mdYU8Fh1Whdd",
        "outputId": "cce105e1-47d8-4788-c44e-de8e4aa2da83"
      },
      "execution_count": null,
      "outputs": [
        {
          "output_type": "stream",
          "name": "stdout",
          "text": [
            "[0.  0.1 0.2 0.3 0.4 0.5 0.6 0.7 0.8 0.9 1.  1.1 1.2 1.3 1.4]\n"
          ]
        }
      ]
    },
    {
      "cell_type": "code",
      "source": [
        "vector2 = np.arange(1, 7, 1)\n",
        "print(vector2)"
      ],
      "metadata": {
        "colab": {
          "base_uri": "https://localhost:8080/"
        },
        "id": "tAI9g86aW7_w",
        "outputId": "6fce2f78-7e32-46a7-88ca-0b44430c6dda"
      },
      "execution_count": null,
      "outputs": [
        {
          "output_type": "stream",
          "name": "stdout",
          "text": [
            "[1 2 3 4 5 6]\n"
          ]
        }
      ]
    },
    {
      "cell_type": "code",
      "source": [
        "matrix1 = vector1.reshape(5,3)\n",
        "print(matrix1)"
      ],
      "metadata": {
        "colab": {
          "base_uri": "https://localhost:8080/"
        },
        "id": "HwS99mi6XGeW",
        "outputId": "f6bbf9c9-78e4-4710-9b2c-b127a47ec822"
      },
      "execution_count": null,
      "outputs": [
        {
          "output_type": "stream",
          "name": "stdout",
          "text": [
            "[[0.  0.1 0.2]\n",
            " [0.3 0.4 0.5]\n",
            " [0.6 0.7 0.8]\n",
            " [0.9 1.  1.1]\n",
            " [1.2 1.3 1.4]]\n"
          ]
        }
      ]
    },
    {
      "cell_type": "code",
      "source": [
        "matrix2 = vector2.reshape(3,2)\n",
        "print(matrix2)"
      ],
      "metadata": {
        "colab": {
          "base_uri": "https://localhost:8080/"
        },
        "id": "dUlvTUNCXYua",
        "outputId": "fc37746d-d3e2-4c82-c832-bf34f88b94f2"
      },
      "execution_count": null,
      "outputs": [
        {
          "output_type": "stream",
          "name": "stdout",
          "text": [
            "[[1 2]\n",
            " [3 4]\n",
            " [5 6]]\n"
          ]
        }
      ]
    },
    {
      "cell_type": "code",
      "source": [
        "result = matrix1.dot(matrix2)\n",
        "print(result)"
      ],
      "metadata": {
        "colab": {
          "base_uri": "https://localhost:8080/"
        },
        "id": "A69ZKkTUXfDx",
        "outputId": "ec432339-5f21-49df-f81f-713ee95ba4d1"
      },
      "execution_count": null,
      "outputs": [
        {
          "output_type": "stream",
          "name": "stdout",
          "text": [
            "[[ 1.3  1.6]\n",
            " [ 4.   5.2]\n",
            " [ 6.7  8.8]\n",
            " [ 9.4 12.4]\n",
            " [12.1 16. ]]\n"
          ]
        }
      ]
    },
    {
      "cell_type": "code",
      "source": [
        "#task 4"
      ],
      "metadata": {
        "id": "mkcIU69bXwF3"
      },
      "execution_count": null,
      "outputs": []
    },
    {
      "cell_type": "code",
      "source": [
        "vector3 = np.arange(1, 73, 2, dtype=np.int32)\n",
        "print(vector3)"
      ],
      "metadata": {
        "colab": {
          "base_uri": "https://localhost:8080/"
        },
        "id": "DVZGAxo1X1Ge",
        "outputId": "a5c0f3a4-f07b-49f0-ef40-a05da3a354ca"
      },
      "execution_count": null,
      "outputs": [
        {
          "output_type": "stream",
          "name": "stdout",
          "text": [
            "[ 1  3  5  7  9 11 13 15 17 19 21 23 25 27 29 31 33 35 37 39 41 43 45 47\n",
            " 49 51 53 55 57 59 61 63 65 67 69 71]\n"
          ]
        }
      ]
    },
    {
      "cell_type": "code",
      "source": [
        "vector4 = vector3[vector3 % 3 == 0]\n",
        "print(vector4)"
      ],
      "metadata": {
        "colab": {
          "base_uri": "https://localhost:8080/"
        },
        "id": "8r1dP_ciYG1d",
        "outputId": "89689f8b-e77f-4a55-cad8-b8aa93d90861"
      },
      "execution_count": null,
      "outputs": [
        {
          "output_type": "stream",
          "name": "stdout",
          "text": [
            "[ 3  9 15 21 27 33 39 45 51 57 63 69]\n"
          ]
        }
      ]
    }
  ]
}